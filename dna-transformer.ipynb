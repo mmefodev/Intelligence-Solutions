{
 "cells": [
  {
   "cell_type": "markdown",
   "metadata": {
    "id": "ZazW5dRCzReL"
   },
   "source": [
    "## Predicting skipped element of DNA sequence with Transformer"
   ]
  },
  {
   "cell_type": "code",
   "execution_count": 1,
   "metadata": {
    "execution": {
     "iopub.execute_input": "2021-12-09T16:29:41.674472Z",
     "iopub.status.busy": "2021-12-09T16:29:41.674110Z",
     "iopub.status.idle": "2021-12-09T16:29:50.911903Z",
     "shell.execute_reply": "2021-12-09T16:29:50.911099Z",
     "shell.execute_reply.started": "2021-12-09T16:29:41.674383Z"
    },
    "id": "GjMuy9SDswUu",
    "outputId": "42efd898-4fcb-414a-d882-a663a5aaebca"
   },
   "outputs": [],
   "source": [
    "!pip install biopython"
   ]
  },
  {
   "cell_type": "code",
   "execution_count": 2,
   "metadata": {
    "execution": {
     "iopub.execute_input": "2021-12-09T16:29:53.473939Z",
     "iopub.status.busy": "2021-12-09T16:29:53.473216Z",
     "iopub.status.idle": "2021-12-09T16:29:59.353874Z",
     "shell.execute_reply": "2021-12-09T16:29:59.353039Z",
     "shell.execute_reply.started": "2021-12-09T16:29:53.473899Z"
    },
    "id": "kbaxLTDhr_jJ"
   },
   "outputs": [],
   "source": [
    "import numpy as np\n",
    "import pandas as pd\n",
    "import math\n",
    "from Bio import SeqIO\n",
    "from sklearn.preprocessing import OneHotEncoder\n",
    "from sklearn.model_selection import KFold\n",
    "import os\n",
    "import matplotlib.pyplot as plt\n",
    "from tqdm import tqdm\n",
    "\n",
    "import tensorflow as tf\n",
    "from tensorflow import keras\n",
    "from tensorflow.keras import layers\n",
    "\n",
    "from tensorflow.keras.callbacks import EarlyStopping, ModelCheckpoint\n",
    "from tensorflow.keras.callbacks import LearningRateScheduler, ReduceLROnPlateau\n",
    "os.environ['TF_CPP_MIN_LOG_LEVEL'] = '3'"
   ]
  },
  {
   "cell_type": "code",
   "execution_count": 21,
   "metadata": {
    "execution": {
     "iopub.execute_input": "2021-12-09T17:43:01.501434Z",
     "iopub.status.busy": "2021-12-09T17:43:01.500520Z",
     "iopub.status.idle": "2021-12-09T17:43:01.507136Z",
     "shell.execute_reply": "2021-12-09T17:43:01.506213Z",
     "shell.execute_reply.started": "2021-12-09T17:43:01.501382Z"
    },
    "id": "rOF4nC7Ij75u"
   },
   "outputs": [],
   "source": [
    "PATH_INPUT = '../input/dna-sequences/'\n",
    "PATH_OUTPUT = './'\n",
    "BATCH_SIZE = 1024\n",
    "TRAIN_ONE_FOLD = True\n",
    "RANDOM_SEED = 42\n",
    "NUM_FOLDS = 8\n",
    "NUM_EPOCHS = 1000"
   ]
  },
  {
   "cell_type": "code",
   "execution_count": 4,
   "metadata": {
    "execution": {
     "iopub.execute_input": "2021-12-09T16:29:59.698935Z",
     "iopub.status.busy": "2021-12-09T16:29:59.698081Z",
     "iopub.status.idle": "2021-12-09T16:30:04.484028Z",
     "shell.execute_reply": "2021-12-09T16:30:04.483185Z",
     "shell.execute_reply.started": "2021-12-09T16:29:59.698886Z"
    },
    "id": "D_T6paWwr_jR"
   },
   "outputs": [],
   "source": [
    "# Parsing initial sequences and creating Series with initial sequences\n",
    "fasta_iterator = SeqIO.parse(open(PATH_INPUT+'mart_export.txt'),'fasta')\n",
    "\n",
    "init_sequences = []\n",
    "for fasta in fasta_iterator:\n",
    "    sequence = str(fasta.seq)\n",
    "    init_sequences.append(sequence)\n",
    "    \n",
    "init_seqs = pd.Series(init_sequences)"
   ]
  },
  {
   "cell_type": "code",
   "execution_count": 5,
   "metadata": {
    "execution": {
     "iopub.execute_input": "2021-12-09T16:30:04.485808Z",
     "iopub.status.busy": "2021-12-09T16:30:04.485560Z",
     "iopub.status.idle": "2021-12-09T16:30:16.036763Z",
     "shell.execute_reply": "2021-12-09T16:30:16.035952Z",
     "shell.execute_reply.started": "2021-12-09T16:30:04.485782Z"
    },
    "id": "h1CKHIL9r_jT"
   },
   "outputs": [],
   "source": [
    "# Filtering initial sequences\n",
    "init_seqs = init_seqs[init_seqs.transform(lambda x: ('A' in x)&('T' in x)&('C' in x)&('G' in x))]\n",
    "\n",
    "# Removing \"N\" at the start of sequence\n",
    "def remove_N(seq):\n",
    "    i = 0\n",
    "    for x in seq:\n",
    "        if x == 'N':\n",
    "            i+=1\n",
    "        else: \n",
    "            break\n",
    "        \n",
    "    return seq[i:]\n",
    "\n",
    "init_seqs = init_seqs.transform(lambda x: remove_N(x))\n",
    "\n",
    "# Dropping if there are more then 4 distinct symbols in initial sequence and length < 61\n",
    "init_seqs.drop(init_seqs.index[init_seqs.transform(lambda x: len(set(x)) != 4)], inplace=True)\n",
    "init_seqs.drop(init_seqs.index[init_seqs.transform(lambda x: len(x) < 61)], inplace=True)\n",
    "init_seqs.reset_index(inplace=True, drop=True)\n",
    "\n",
    "# Converting strings to id lists\n",
    "mapping = {'A': 1, 'C': 2, 'G': 3, 'T': 4}  # -1 for predictions\n",
    "init_seqs = init_seqs.transform(lambda x: [mapping[symbol] for symbol in x])"
   ]
  },
  {
   "cell_type": "code",
   "execution_count": null,
   "metadata": {
    "execution": {
     "iopub.execute_input": "2021-12-06T21:31:23.07987Z",
     "iopub.status.busy": "2021-12-06T21:31:23.079403Z",
     "iopub.status.idle": "2021-12-06T21:31:23.172985Z",
     "shell.execute_reply": "2021-12-06T21:31:23.172387Z",
     "shell.execute_reply.started": "2021-12-06T21:31:23.079834Z"
    },
    "id": "bDurqZO1r_jX",
    "outputId": "b28267d1-7849-44c5-b20d-d73e0e60c05e"
   },
   "outputs": [],
   "source": [
    "init_seqs.transform(lambda x: len(x)).describe()"
   ]
  },
  {
   "cell_type": "code",
   "execution_count": 6,
   "metadata": {
    "execution": {
     "iopub.execute_input": "2021-12-09T16:30:16.038460Z",
     "iopub.status.busy": "2021-12-09T16:30:16.038219Z",
     "iopub.status.idle": "2021-12-09T16:33:50.822629Z",
     "shell.execute_reply": "2021-12-09T16:33:50.821501Z",
     "shell.execute_reply.started": "2021-12-09T16:30:16.038433Z"
    },
    "id": "Dk8siCSGsle1",
    "outputId": "8c8b04c9-b890-4db9-8b7e-5e4a2b35e8ce"
   },
   "outputs": [],
   "source": [
    "# Creating sequences with random lengths beetween 11 and 61 out of parsed long sequences\n",
    "# Then adding padding to bring sequences to equal lenghts and hide target element\n",
    "seqs = []\n",
    "targets = []\n",
    "for elem in tqdm(init_seqs):\n",
    "    i = 0\n",
    "    while i < len(elem)-61:\n",
    "        seq_with_pad = [0]*61  # 0 is an id of '<pad>'\n",
    "        seq_length = np.random.randint(11,61)\n",
    "        seq = elem[i:i+seq_length]\n",
    "        j = np.random.randint(np.max([seq_length-31, 5]), np.min([31, seq_length-5]))\n",
    "        target = seq[j]  # Creating target\n",
    "        seq[j] = 0  # \n",
    "        seq_with_pad[30-j:30-j+seq_length] = seq\n",
    "        seqs.append(seq_with_pad)\n",
    "        targets.append(target)\n",
    "        i+=seq_length\n",
    "seqs = np.asarray(seqs).astype('float32').reshape(-1, 61, 1)\n",
    "targets = np.asarray(targets).astype('float32').reshape(-1, 1) - 1\n",
    "print(len(seqs), 'sequences obtained')"
   ]
  },
  {
   "cell_type": "code",
   "execution_count": 7,
   "metadata": {
    "execution": {
     "iopub.execute_input": "2021-12-09T16:33:50.825143Z",
     "iopub.status.busy": "2021-12-09T16:33:50.824784Z",
     "iopub.status.idle": "2021-12-09T16:33:50.838014Z",
     "shell.execute_reply": "2021-12-09T16:33:50.836883Z",
     "shell.execute_reply.started": "2021-12-09T16:33:50.825103Z"
    }
   },
   "outputs": [],
   "source": [
    "# Creating transformer block which will be used multiple times sequentially\n",
    "class TransformerBlock(layers.Layer):\n",
    "    def __init__(self, embed_dim, num_heads, ff_dim, rate=0.1):\n",
    "        super(TransformerBlock, self).__init__()\n",
    "        self.att = layers.MultiHeadAttention(num_heads=num_heads, key_dim=embed_dim)\n",
    "        self.ffn = keras.Sequential(\n",
    "            [layers.Dense(ff_dim, activation=\"relu\"), layers.Dense(embed_dim),]\n",
    "        )\n",
    "        self.layernorm1 = layers.LayerNormalization(epsilon=1e-6)\n",
    "        self.layernorm2 = layers.LayerNormalization(epsilon=1e-6)\n",
    "        self.dropout1 = layers.Dropout(rate)\n",
    "        self.dropout2 = layers.Dropout(rate)\n",
    "\n",
    "    def call(self, inputs, training):\n",
    "        attn_output = self.att(inputs, inputs)\n",
    "        attn_output = self.dropout1(attn_output, training=training)\n",
    "        out1 = self.layernorm1(inputs + attn_output)\n",
    "        ffn_output = self.ffn(out1)\n",
    "        ffn_output = self.dropout2(ffn_output, training=training)\n",
    "        return self.layernorm2(out1 + ffn_output)"
   ]
  },
  {
   "cell_type": "code",
   "execution_count": 8,
   "metadata": {
    "execution": {
     "iopub.execute_input": "2021-12-09T16:33:50.839248Z",
     "iopub.status.busy": "2021-12-09T16:33:50.839023Z",
     "iopub.status.idle": "2021-12-09T16:33:50.854076Z",
     "shell.execute_reply": "2021-12-09T16:33:50.853442Z",
     "shell.execute_reply.started": "2021-12-09T16:33:50.839217Z"
    }
   },
   "outputs": [],
   "source": [
    "# Creating embeddings which will be the input of transformer block\n",
    "class TokenAndPositionEmbedding(layers.Layer):\n",
    "    def __init__(self, max_len, vocab_size, embed_dim):\n",
    "        super(TokenAndPositionEmbedding, self).__init__()\n",
    "        self.token_emb = layers.Embedding(input_dim=vocab_size, output_dim=embed_dim, mask_zero=True)\n",
    "        self.pos_emb = layers.Embedding(input_dim=max_len, output_dim=embed_dim)\n",
    "\n",
    "    def call(self, x):\n",
    "        max_len = tf.shape(x)[-1]\n",
    "        positions = tf.range(start=0, limit=max_len, delta=1)\n",
    "        positions = self.pos_emb(positions)\n",
    "        x = self.token_emb(x)\n",
    "        return x + positions"
   ]
  },
  {
   "cell_type": "code",
   "execution_count": 16,
   "metadata": {
    "execution": {
     "iopub.execute_input": "2021-12-09T16:37:23.185742Z",
     "iopub.status.busy": "2021-12-09T16:37:23.185023Z",
     "iopub.status.idle": "2021-12-09T16:37:23.194809Z",
     "shell.execute_reply": "2021-12-09T16:37:23.193936Z",
     "shell.execute_reply.started": "2021-12-09T16:37:23.185687Z"
    }
   },
   "outputs": [],
   "source": [
    "vocab_size = 5  # from 0 to 4\n",
    "max_len = 61 \n",
    "embed_dim = 64  # Embedding size for attention\n",
    "num_heads = 12  # Number of attention heads\n",
    "ff_dim = 128  # Hidden layer size in feed forward network inside transformer\n",
    "dropout_rate = 0.05\n",
    "num_blocks = 12\n",
    "\n",
    "def build_model():\n",
    "    inputs = layers.Input(shape=(max_len,))\n",
    "    \n",
    "    # POSITION EMBEDDING\n",
    "    pos_embedding = TokenAndPositionEmbedding(max_len=max_len, vocab_size=vocab_size, embed_dim=embed_dim)\n",
    "    x = pos_embedding(inputs)\n",
    "    \n",
    "    # TRANSFORMER BLOCKS\n",
    "    for k in range(num_blocks):\n",
    "        x_old = x\n",
    "        transformer_block = TransformerBlock(embed_dim, num_heads, ff_dim, dropout_rate)\n",
    "        x = transformer_block(x)\n",
    "        x = 0.7*x + 0.3*x_old  # SKIP CONNECTION\n",
    "    \n",
    "    # GLOBAL AVERAGE POOLING\n",
    "    pooling = layers.GlobalAveragePooling1D()\n",
    "    x = pooling(x)\n",
    "    \n",
    "    # PREDICTION LAYERS\n",
    "    x = layers.Dense(128, activation=\"selu\")(x)\n",
    "    x = layers.Dropout(dropout_rate)(x)\n",
    "    outputs = layers.Dense(vocab_size-1, activation=\"softmax\")(x)\n",
    "    model = keras.Model(inputs=inputs, outputs=outputs)\n",
    "        \n",
    "    return model"
   ]
  },
  {
   "cell_type": "code",
   "execution_count": 15,
   "metadata": {
    "execution": {
     "iopub.execute_input": "2021-12-09T16:37:00.756314Z",
     "iopub.status.busy": "2021-12-09T16:37:00.755383Z",
     "iopub.status.idle": "2021-12-09T16:37:06.585276Z",
     "shell.execute_reply": "2021-12-09T16:37:06.584451Z",
     "shell.execute_reply.started": "2021-12-09T16:37:00.756233Z"
    }
   },
   "outputs": [],
   "source": [
    "# Implementing TPU, defining strategy\n",
    "try:\n",
    "    tpu = tf.distribute.cluster_resolver.TPUClusterResolver()\n",
    "    tf.config.experimental_connect_to_cluster(tpu)\n",
    "    tf.tpu.experimental.initialize_tpu_system(tpu)\n",
    "    strategy = tf.distribute.experimental.TPUStrategy(tpu)\n",
    "    BATCH_SIZE = strategy.num_replicas_in_sync * 64\n",
    "    print(\"Running on TPU:\", tpu.master())\n",
    "    print(f\"Batch Size: {BATCH_SIZE}\")\n",
    "    \n",
    "except ValueError:\n",
    "    strategy = tf.distribute.get_strategy()\n",
    "    BATCH_SIZE = 512\n",
    "    print(f\"Running on {strategy.num_replicas_in_sync} replicas\")\n",
    "    print(f\"Batch Size: {BATCH_SIZE}\")"
   ]
  },
  {
   "cell_type": "code",
   "execution_count": 25,
   "metadata": {
    "execution": {
     "iopub.execute_input": "2021-12-09T17:52:59.399317Z",
     "iopub.status.busy": "2021-12-09T17:52:59.398433Z",
     "iopub.status.idle": "2021-12-09T20:51:51.541952Z",
     "shell.execute_reply": "2021-12-09T20:51:51.539862Z",
     "shell.execute_reply.started": "2021-12-09T17:52:59.399268Z"
    }
   },
   "outputs": [],
   "source": [
    "VERBOSE = 1\n",
    "TRAIN_MODEL = True\n",
    "VER = 2  # Version of model\n",
    "\n",
    "with strategy.scope():\n",
    "    accuracy = tf.keras.metrics.SparseCategoricalAccuracy()\n",
    "    kf = KFold(n_splits=NUM_FOLDS, shuffle=True, random_state=RANDOM_SEED)\n",
    "    \n",
    "    train_preds = []\n",
    "    train_true = []\n",
    "    test_preds = []\n",
    "    test_true = []\n",
    "    oof_preds = []\n",
    "    oof_true = []\n",
    "    test_folds = []\n",
    "    \n",
    "    # Train and validate on 80% of data, test on 20%\n",
    "    for fold, (train_idx, val_idx) in enumerate(kf.split(seqs[:int(len(targets)*0.8)], targets[:int(len(targets)*0.8)])):\n",
    "        print('-'*15, '>', f'Fold {fold}', '<', '-'*15)\n",
    "        X_train, X_valid = seqs[train_idx], seqs[val_idx]\n",
    "        y_train, y_valid = targets[train_idx], targets[val_idx]\n",
    "        test_folds.append(val_idx)\n",
    "        \n",
    "        checkpoint_filepath = f\"folds{fold}_{VER}.hdf5\"\n",
    "\n",
    "        model = build_model()\n",
    "        opt = tf.keras.optimizers.Nadam(lr=0.0001)\n",
    "        model.compile(optimizer=opt, loss=\"sparse_categorical_crossentropy\", metrics=['sparse_categorical_accuracy'])\n",
    "        \n",
    "        # Initializing callbacks for training\n",
    "        reduce_lr = keras.callbacks.ReduceLROnPlateau(monitor='val_loss', factor=0.3,\n",
    "                              patience=6, min_lr=0)\n",
    "        \n",
    "        early_stop = tf.keras.callbacks.EarlyStopping(monitor='val_loss', patience=9)\n",
    "        \n",
    "        sv = keras.callbacks.ModelCheckpoint(\n",
    "                checkpoint_filepath, monitor='val_loss', verbose=VERBOSE, save_best_only=True,\n",
    "                save_weights_only=True, mode='auto', save_freq='epoch',\n",
    "                options=None\n",
    "                                            )\n",
    "        \n",
    "        if TRAIN_MODEL:\n",
    "            history = model.fit(X_train, y_train, verbose=VERBOSE,\n",
    "                                validation_data=(X_valid, y_valid), \n",
    "                                epochs=NUM_EPOCHS, batch_size=BATCH_SIZE, callbacks=[reduce_lr, sv, early_stop]\n",
    "                               )\n",
    "            \n",
    "            # Notification about the end of training proccess\n",
    "            !wget \"https://alarmerbot.ru/?key=10c705-98982c-21cbb1&message=Training%20in%20Kaggle%20is%20finished%21\"\n",
    "        else:\n",
    "            model.load_weights(f'../input/tr-tf-tpu1/folds{fold}_{VER}.hdf5')\n",
    "       \n",
    "        \n",
    "        # PREDICT TRAIN\n",
    "        print('Predicting TRAIN...')\n",
    "        train_preds.append( model.predict(X_train, batch_size=BATCH_SIZE, verbose=VERBOSE) )\n",
    "        train_true.append( y_train )\n",
    "        accuracy.update_state(train_true[-1], train_preds[-1])\n",
    "        score = accuracy.result().numpy()\n",
    "        print(f\"Fold-{fold} | Train Score: {score}\")\n",
    "        \n",
    "        # PREDICT OOF (VALIDATION)\n",
    "        print('Predicting OOF...')\n",
    "        oof_preds.append( model.predict(X_valid, batch_size=BATCH_SIZE, verbose=VERBOSE) )\n",
    "        oof_true.append( y_valid )\n",
    "        accuracy.update_state(oof_true[-1], oof_preds[-1])\n",
    "        score = accuracy.result().numpy()\n",
    "        print(f\"Fold-{fold} | OOF Score: {score}\")\n",
    "        \n",
    "        # PREDICT TEST\n",
    "        print('Predicting TEST...')\n",
    "        test_preds.append( model.predict(seqs[int(len(targets)*0.8):], batch_size=BATCH_SIZE, verbose=VERBOSE) )\n",
    "        test_true.append( targets[int(len(targets)*0.8):] )\n",
    "        accuracy.update_state(test_true[-1], test_preds[-1])\n",
    "        score = accuracy.result().numpy()\n",
    "        print(f\"Fold-{fold} | Test Score: {score}\")\n",
    "        \n",
    "        np.save(f'oof_v{VER}_trans', oof_preds)\n",
    "        \n",
    "        if TRAIN_ONE_FOLD: break"
   ]
  },
  {
   "cell_type": "code",
   "execution_count": null,
   "metadata": {},
   "outputs": [],
   "source": [
    "losses, sc_accs, val_losses, vsc_accs = \\\n",
    "np.asarray(history.history['loss']).astype('float16'), \\\n",
    "np.asarray(history.history['sparse_categorical_accuracy']).astype('float16'), \\\n",
    "np.asarray(history.history['val_loss']).astype('float16'), \\\n",
    "np.asarray(history.history['val_sparse_categorical_accuracy']).astype('float16')"
   ]
  },
  {
   "cell_type": "code",
   "execution_count": 11,
   "metadata": {},
   "outputs": [
    {
     "data": {
      "text/plain": [
       "<matplotlib.legend.Legend at 0x1f7001b1fa0>"
      ]
     },
     "execution_count": 11,
     "metadata": {},
     "output_type": "execute_result"
    },
    {
     "data": {
      "image/png": "[encoded data removed]",
      "text/plain": [
       "<Figure size 1440x1440 with 2 Axes>"
      ]
     },
     "metadata": {
      "needs_background": "light"
     },
     "output_type": "display_data"
    }
   ],
   "source": [
    "# Plotting training history\n",
    "fig, (ax1, ax2) = plt.subplots(2, 1)\n",
    "fig.set_size_inches(20, 20)\n",
    "ax1.set_title('Losses')\n",
    "ax1.plot(losses, label='Train losses')\n",
    "ax1.plot(val_losses, label='Valid losses')\n",
    "ax1.legend()\n",
    "ax2.set_title('Accuracies')\n",
    "ax2.plot(sc_accs, label = 'Train accuracies')\n",
    "ax2.plot(vsc_accs, label = 'Valid accuracies')\n",
    "ax2.legend()"
   ]
  },
  {
   "cell_type": "markdown",
   "metadata": {},
   "source": [
    "TRAINING LOG\n",
    "\n",
    "--------------- > Fold 0 < ---------------\n",
    "Epoch 1/1000\n",
    "2348/2348 [==============================] - 424s 150ms/step - loss: 1.3366 - sparse_categorical_accuracy: 0.3382 - val_loss: 1.2797 - val_sparse_categorical_accuracy: 0.3900\n",
    "\n",
    "Epoch 00001: val_loss improved from inf to 1.27971, saving model to folds0_2.hdf5\n",
    "Epoch 2/1000\n",
    "2348/2348 [==============================] - 327s 139ms/step - loss: 1.2712 - sparse_categorical_accuracy: 0.3947 - val_loss: 1.2618 - val_sparse_categorical_accuracy: 0.4013\n",
    "\n",
    "Epoch 00002: val_loss improved from 1.27971 to 1.26183, saving model to folds0_2.hdf5\n",
    "Epoch 3/1000\n",
    "2348/2348 [==============================] - 326s 139ms/step - loss: 1.2620 - sparse_categorical_accuracy: 0.4019 - val_loss: 1.2548 - val_sparse_categorical_accuracy: 0.4076\n",
    "\n",
    "Epoch 00003: val_loss improved from 1.26183 to 1.25480, saving model to folds0_2.hdf5\n",
    "Epoch 4/1000\n",
    "2348/2348 [==============================] - 326s 139ms/step - loss: 1.2573 - sparse_categorical_accuracy: 0.4055 - val_loss: 1.2531 - val_sparse_categorical_accuracy: 0.4087\n",
    "\n",
    "Epoch 00004: val_loss improved from 1.25480 to 1.25306, saving model to folds0_2.hdf5\n",
    "Epoch 5/1000\n",
    "2348/2348 [==============================] - 326s 139ms/step - loss: 1.2541 - sparse_categorical_accuracy: 0.4074 - val_loss: 1.2505 - val_sparse_categorical_accuracy: 0.4101\n",
    "\n",
    "Epoch 00005: val_loss improved from 1.25306 to 1.25052, saving model to folds0_2.hdf5\n",
    "Epoch 6/1000\n",
    "2348/2348 [==============================] - 326s 139ms/step - loss: 1.2516 - sparse_categorical_accuracy: 0.4088 - val_loss: 1.2513 - val_sparse_categorical_accuracy: 0.4099\n",
    "\n",
    "Epoch 00006: val_loss did not improve from 1.25052\n",
    "Epoch 7/1000\n",
    "2348/2348 [==============================] - 326s 139ms/step - loss: 1.2499 - sparse_categorical_accuracy: 0.4102 - val_loss: 1.2481 - val_sparse_categorical_accuracy: 0.4116\n",
    "\n",
    "Epoch 00007: val_loss improved from 1.25052 to 1.24808, saving model to folds0_2.hdf5\n",
    "Epoch 8/1000\n",
    "2348/2348 [==============================] - 327s 139ms/step - loss: 1.2486 - sparse_categorical_accuracy: 0.4116 - val_loss: 1.2467 - val_sparse_categorical_accuracy: 0.4133\n",
    "\n",
    "Epoch 00008: val_loss improved from 1.24808 to 1.24669, saving model to folds0_2.hdf5\n",
    "Epoch 9/1000\n",
    "2348/2348 [==============================] - 326s 139ms/step - loss: 1.2467 - sparse_categorical_accuracy: 0.4129 - val_loss: 1.2472 - val_sparse_categorical_accuracy: 0.4129\n",
    "\n",
    "Epoch 00009: val_loss did not improve from 1.24669\n",
    "Epoch 10/1000\n",
    "2348/2348 [==============================] - 326s 139ms/step - loss: 1.2462 - sparse_categorical_accuracy: 0.4137 - val_loss: 1.2451 - val_sparse_categorical_accuracy: 0.4140\n",
    "\n",
    "Epoch 00010: val_loss improved from 1.24669 to 1.24509, saving model to folds0_2.hdf5\n",
    "Epoch 11/1000\n",
    "2348/2348 [==============================] - 326s 139ms/step - loss: 1.2448 - sparse_categorical_accuracy: 0.4148 - val_loss: 1.2444 - val_sparse_categorical_accuracy: 0.4148\n",
    "\n",
    "Epoch 00011: val_loss improved from 1.24509 to 1.24442, saving model to folds0_2.hdf5\n",
    "Epoch 12/1000\n",
    "2348/2348 [==============================] - 326s 139ms/step - loss: 1.2437 - sparse_categorical_accuracy: 0.4159 - val_loss: 1.2451 - val_sparse_categorical_accuracy: 0.4150\n",
    "\n",
    "Epoch 00012: val_loss did not improve from 1.24442\n",
    "Epoch 13/1000\n",
    "2348/2348 [==============================] - 326s 139ms/step - loss: 1.2422 - sparse_categorical_accuracy: 0.4171 - val_loss: 1.2438 - val_sparse_categorical_accuracy: 0.4162\n",
    "\n",
    "Epoch 00013: val_loss improved from 1.24442 to 1.24383, saving model to folds0_2.hdf5\n",
    "Epoch 14/1000\n",
    "2348/2348 [==============================] - 326s 139ms/step - loss: 1.2415 - sparse_categorical_accuracy: 0.4177 - val_loss: 1.2433 - val_sparse_categorical_accuracy: 0.4158\n",
    "\n",
    "Epoch 00014: val_loss improved from 1.24383 to 1.24329, saving model to folds0_2.hdf5\n",
    "Epoch 15/1000\n",
    "2348/2348 [==============================] - 326s 139ms/step - loss: 1.2407 - sparse_categorical_accuracy: 0.4179 - val_loss: 1.2441 - val_sparse_categorical_accuracy: 0.4154\n",
    "\n",
    "Epoch 00015: val_loss did not improve from 1.24329\n",
    "Epoch 16/1000\n",
    "2348/2348 [==============================] - 326s 139ms/step - loss: 1.2393 - sparse_categorical_accuracy: 0.4192 - val_loss: 1.2422 - val_sparse_categorical_accuracy: 0.4176\n",
    "\n",
    "Epoch 00016: val_loss improved from 1.24329 to 1.24223, saving model to folds0_2.hdf5\n",
    "Epoch 17/1000\n",
    "2348/2348 [==============================] - 326s 139ms/step - loss: 1.2385 - sparse_categorical_accuracy: 0.4194 - val_loss: 1.2426 - val_sparse_categorical_accuracy: 0.4170\n",
    "\n",
    "Epoch 00017: val_loss did not improve from 1.24223\n",
    "Epoch 18/1000\n",
    "2348/2348 [==============================] - 326s 139ms/step - loss: 1.2376 - sparse_categorical_accuracy: 0.4201 - val_loss: 1.2421 - val_sparse_categorical_accuracy: 0.4172\n",
    "\n",
    "Epoch 00018: val_loss improved from 1.24223 to 1.24207, saving model to folds0_2.hdf5\n",
    "Epoch 19/1000\n",
    "2348/2348 [==============================] - 327s 139ms/step - loss: 1.2371 - sparse_categorical_accuracy: 0.4207 - val_loss: 1.2419 - val_sparse_categorical_accuracy: 0.4178\n",
    "\n",
    "Epoch 00019: val_loss improved from 1.24207 to 1.24187, saving model to folds0_2.hdf5\n",
    "Epoch 20/1000\n",
    "2348/2348 [==============================] - 326s 139ms/step - loss: 1.2359 - sparse_categorical_accuracy: 0.4219 - val_loss: 1.2416 - val_sparse_categorical_accuracy: 0.4175\n",
    "\n",
    "Epoch 00020: val_loss improved from 1.24187 to 1.24162, saving model to folds0_2.hdf5\n",
    "Epoch 21/1000\n",
    "2348/2348 [==============================] - 326s 139ms/step - loss: 1.2353 - sparse_categorical_accuracy: 0.4219 - val_loss: 1.2422 - val_sparse_categorical_accuracy: 0.4174\n",
    "\n",
    "Epoch 00021: val_loss did not improve from 1.24162\n",
    "Epoch 22/1000\n",
    "2348/2348 [==============================] - 326s 139ms/step - loss: 1.2341 - sparse_categorical_accuracy: 0.4224 - val_loss: 1.2414 - val_sparse_categorical_accuracy: 0.4174\n",
    "\n",
    "Epoch 00022: val_loss improved from 1.24162 to 1.24137, saving model to folds0_2.hdf5\n",
    "Epoch 23/1000\n",
    "2348/2348 [==============================] - 326s 139ms/step - loss: 1.2334 - sparse_categorical_accuracy: 0.4240 - val_loss: 1.2414 - val_sparse_categorical_accuracy: 0.4170\n",
    "\n",
    "Epoch 00023: val_loss improved from 1.24137 to 1.24136, saving model to folds0_2.hdf5\n",
    "Epoch 24/1000\n",
    "2348/2348 [==============================] - 326s 139ms/step - loss: 1.2318 - sparse_categorical_accuracy: 0.4242 - val_loss: 1.2418 - val_sparse_categorical_accuracy: 0.4179\n",
    "\n",
    "Epoch 00024: val_loss did not improve from 1.24136\n",
    "Epoch 25/1000\n",
    "2348/2348 [==============================] - 326s 139ms/step - loss: 1.2307 - sparse_categorical_accuracy: 0.4257 - val_loss: 1.2420 - val_sparse_categorical_accuracy: 0.4181\n",
    "\n",
    "Epoch 00025: val_loss did not improve from 1.24136\n",
    "Epoch 26/1000\n",
    "2348/2348 [==============================] - 326s 139ms/step - loss: 1.2298 - sparse_categorical_accuracy: 0.4261 - val_loss: 1.2433 - val_sparse_categorical_accuracy: 0.4170\n",
    "\n",
    "Epoch 00026: val_loss did not improve from 1.24136\n",
    "Epoch 27/1000\n",
    "2348/2348 [==============================] - 326s 139ms/step - loss: 1.2294 - sparse_categorical_accuracy: 0.4269 - val_loss: 1.2435 - val_sparse_categorical_accuracy: 0.4175\n",
    "\n",
    "Epoch 00027: val_loss did not improve from 1.24136\n",
    "Epoch 28/1000\n",
    "2348/2348 [==============================] - 326s 139ms/step - loss: 1.2276 - sparse_categorical_accuracy: 0.4282 - val_loss: 1.2416 - val_sparse_categorical_accuracy: 0.4184\n",
    "\n",
    "Epoch 00028: val_loss did not improve from 1.24136\n",
    "Epoch 29/1000\n",
    "2348/2348 [==============================] - 326s 139ms/step - loss: 1.2227 - sparse_categorical_accuracy: 0.4318 - val_loss: 1.2420 - val_sparse_categorical_accuracy: 0.4184\n",
    "\n",
    "Epoch 00029: val_loss did not improve from 1.24136\n",
    "Epoch 30/1000\n",
    "2348/2348 [==============================] - 326s 139ms/step - loss: 1.2203 - sparse_categorical_accuracy: 0.4337 - val_loss: 1.2431 - val_sparse_categorical_accuracy: 0.4176\n",
    "\n",
    "Epoch 00030: val_loss did not improve from 1.24136\n",
    "Epoch 31/1000\n",
    "2348/2348 [==============================] - 326s 139ms/step - loss: 1.2197 - sparse_categorical_accuracy: 0.4335 - val_loss: 1.2433 - val_sparse_categorical_accuracy: 0.4177\n",
    "\n",
    "Epoch 00031: val_loss did not improve from 1.24136\n",
    "Epoch 32/1000\n",
    "2348/2348 [==============================] - 326s 139ms/step - loss: 1.2188 - sparse_categorical_accuracy: 0.4345 - val_loss: 1.2450 - val_sparse_categorical_accuracy: 0.4170\n",
    "\n",
    "Epoch 00032: val_loss did not improve from 1.24136\n",
    "\n",
    "Predicting TRAIN...\n",
    "2348/2348 [==============================] - 112s 47ms/step\n",
    "Fold-0 | Train Score: 0.43932464718818665\n",
    "Predicting OOF...\n",
    "336/336 [==============================] - 17s 51ms/step\n",
    "Fold-0 | OOF Score: 0.436528742313385\n",
    "Predicting TEST...\n",
    "671/671 [==============================] - 33s 49ms/step\n",
    "Fold-0 | Test Score: 0.43347784876823425"
   ]
  }
 ],
 "metadata": {
  "kernelspec": {
   "display_name": "Python 3",
   "language": "python",
   "name": "python3"
  },
  "language_info": {
   "codemirror_mode": {
    "name": "ipython",
    "version": 3
   },
   "file_extension": ".py",
   "mimetype": "text/x-python",
   "name": "python",
   "nbconvert_exporter": "python",
   "pygments_lexer": "ipython3",
   "version": "3.9.0"
  }
 },
 "nbformat": 4,
 "nbformat_minor": 4
}
