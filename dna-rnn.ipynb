{
 "cells": [
  {
   "cell_type": "markdown",
   "metadata": {
    "id": "ZazW5dRCzReL"
   },
   "source": [
    "## Predicting skipped element of DNA sequence with RNN"
   ]
  },
  {
   "cell_type": "code",
   "execution_count": 1,
   "metadata": {
    "execution": {
     "iopub.execute_input": "2021-12-09T13:25:45.078177Z",
     "iopub.status.busy": "2021-12-09T13:25:45.077306Z",
     "iopub.status.idle": "2021-12-09T13:25:54.009125Z",
     "shell.execute_reply": "2021-12-09T13:25:54.008256Z",
     "shell.execute_reply.started": "2021-12-09T13:25:45.078045Z"
    },
    "id": "GjMuy9SDswUu",
    "outputId": "42efd898-4fcb-414a-d882-a663a5aaebca"
   },
   "outputs": [],
   "source": [
    "!pip install biopython"
   ]
  },
  {
   "cell_type": "code",
   "execution_count": 2,
   "metadata": {
    "execution": {
     "iopub.execute_input": "2021-12-09T13:25:54.013128Z",
     "iopub.status.busy": "2021-12-09T13:25:54.012891Z",
     "iopub.status.idle": "2021-12-09T13:25:56.350503Z",
     "shell.execute_reply": "2021-12-09T13:25:56.349659Z",
     "shell.execute_reply.started": "2021-12-09T13:25:54.013099Z"
    },
    "id": "kbaxLTDhr_jJ"
   },
   "outputs": [],
   "source": [
    "import numpy as np\n",
    "import pandas as pd\n",
    "import math\n",
    "from Bio import SeqIO\n",
    "from sklearn.preprocessing import OneHotEncoder\n",
    "import torch\n",
    "from torch import nn, optim\n",
    "from torch.nn import functional as F\n",
    "from tqdm import tqdm\n",
    "from sklearn.model_selection import KFold\n",
    "import matplotlib.pyplot as plt\n",
    "\n",
    "# Defining device we use for training (if GPU is availible then CUDA)\n",
    "if torch.cuda.is_available():\n",
    "    from torch.cuda import FloatTensor, LongTensor\n",
    "    DEVICE = torch.device('cuda:0')\n",
    "else:\n",
    "    from torch import FloatTensor, LongTensor\n",
    "    DEVICE = torch.device('cpu')"
   ]
  },
  {
   "cell_type": "code",
   "execution_count": 3,
   "metadata": {
    "execution": {
     "iopub.execute_input": "2021-12-09T13:25:56.352696Z",
     "iopub.status.busy": "2021-12-09T13:25:56.352150Z",
     "iopub.status.idle": "2021-12-09T13:25:56.358178Z",
     "shell.execute_reply": "2021-12-09T13:25:56.357415Z",
     "shell.execute_reply.started": "2021-12-09T13:25:56.352657Z"
    },
    "id": "rOF4nC7Ij75u"
   },
   "outputs": [],
   "source": [
    "# Initialize global constants\n",
    "PATH_INPUT = '../input/dna-sequences/'\n",
    "PATH_OUTPUT = './'\n",
    "BATCH_SIZE = 1024\n",
    "TRAIN_ONE_FOLD = True\n",
    "RANDOM_SEED = 42\n",
    "NUM_FOLDS = 8\n",
    "NUM_EPOCHS = 1000"
   ]
  },
  {
   "cell_type": "code",
   "execution_count": 4,
   "metadata": {
    "execution": {
     "iopub.execute_input": "2021-12-09T13:25:56.361792Z",
     "iopub.status.busy": "2021-12-09T13:25:56.361006Z",
     "iopub.status.idle": "2021-12-09T13:26:00.475028Z",
     "shell.execute_reply": "2021-12-09T13:26:00.474262Z",
     "shell.execute_reply.started": "2021-12-09T13:25:56.361748Z"
    },
    "id": "D_T6paWwr_jR"
   },
   "outputs": [],
   "source": [
    "# Parsing initial sequences and creating Series with initial sequences\n",
    "fasta_iterator = SeqIO.parse(open(PATH_INPUT+'mart_export.txt'),'fasta')\n",
    "\n",
    "init_sequences = []\n",
    "for fasta in fasta_iterator:\n",
    "    sequence = str(fasta.seq)\n",
    "    init_sequences.append(sequence)\n",
    "    \n",
    "init_seqs = pd.Series(init_sequences)"
   ]
  },
  {
   "cell_type": "code",
   "execution_count": 5,
   "metadata": {
    "execution": {
     "iopub.execute_input": "2021-12-09T13:26:00.477126Z",
     "iopub.status.busy": "2021-12-09T13:26:00.476586Z",
     "iopub.status.idle": "2021-12-09T13:26:10.273729Z",
     "shell.execute_reply": "2021-12-09T13:26:10.272957Z",
     "shell.execute_reply.started": "2021-12-09T13:26:00.477089Z"
    },
    "id": "h1CKHIL9r_jT"
   },
   "outputs": [],
   "source": [
    "# Filtering initial sequences\n",
    "init_seqs = init_seqs[init_seqs.transform(lambda x: ('A' in x)&('T' in x)&('C' in x)&('G' in x))]\n",
    "\n",
    "# Removing \"N\" at the start of sequence\n",
    "def remove_N(seq):\n",
    "    i = 0\n",
    "    for x in seq:\n",
    "        if x == 'N':\n",
    "            i+=1\n",
    "        else: \n",
    "            break\n",
    "        \n",
    "    return seq[i:]\n",
    "\n",
    "init_seqs = init_seqs.transform(lambda x: remove_N(x))\n",
    "\n",
    "# Dropping if there are more then 4 distinct symbols in initial sequence and length < 61\n",
    "init_seqs.drop(init_seqs.index[init_seqs.transform(lambda x: len(set(x)) != 4)], inplace=True)\n",
    "init_seqs.drop(init_seqs.index[init_seqs.transform(lambda x: len(x) < 61)], inplace=True)\n",
    "init_seqs.reset_index(inplace=True, drop=True)\n",
    "\n",
    "# Converting strings to id lists\n",
    "mapping = {'A': 0, 'C': 1, 'G': 2, 'T': 3}\n",
    "init_seqs = init_seqs.transform(lambda x: [mapping[symbol] for symbol in x])"
   ]
  },
  {
   "cell_type": "code",
   "execution_count": null,
   "metadata": {
    "execution": {
     "iopub.execute_input": "2021-12-06T07:14:44.950601Z",
     "iopub.status.busy": "2021-12-06T07:14:44.950414Z",
     "iopub.status.idle": "2021-12-06T07:14:45.03302Z",
     "shell.execute_reply": "2021-12-06T07:14:45.032302Z",
     "shell.execute_reply.started": "2021-12-06T07:14:44.950577Z"
    },
    "id": "bDurqZO1r_jX",
    "outputId": "b28267d1-7849-44c5-b20d-d73e0e60c05e"
   },
   "outputs": [],
   "source": [
    "init_seqs.transform(lambda x: len(x)).describe()"
   ]
  },
  {
   "cell_type": "code",
   "execution_count": 6,
   "metadata": {
    "execution": {
     "iopub.execute_input": "2021-12-09T13:26:10.275135Z",
     "iopub.status.busy": "2021-12-09T13:26:10.274874Z",
     "iopub.status.idle": "2021-12-09T13:29:40.956333Z",
     "shell.execute_reply": "2021-12-09T13:29:40.955492Z",
     "shell.execute_reply.started": "2021-12-09T13:26:10.275102Z"
    },
    "id": "Dk8siCSGsle1",
    "outputId": "8c8b04c9-b890-4db9-8b7e-5e4a2b35e8ce"
   },
   "outputs": [],
   "source": [
    "# Creating sequences with random lengths beetween 11 and 61 out of parsed long sequences\n",
    "# Then adding padding to bring sequences to equal lenghts\n",
    "seqs = []\n",
    "for elem in tqdm(init_seqs):\n",
    "    i = 0\n",
    "    while i < len(elem)-61:\n",
    "        seq_with_pad = [4]*61  # 4 is an id of '<pad>'\n",
    "        seq_length = np.random.randint(11,61)\n",
    "        seq = elem[i:i+seq_length]\n",
    "        j = np.random.randint(np.max([seq_length-31, 5]), np.min([31, seq_length-5]))\n",
    "        target = seq[j]  # Creating target\n",
    "        seq_with_pad[30-j:30-j+seq_length] = seq\n",
    "        seqs.append(seq_with_pad)\n",
    "        i+=seq_length\n",
    "seqs = np.array(seqs).reshape(-1, 61, 1)\n",
    "print(len(seqs), 'sequences obtained')"
   ]
  },
  {
   "cell_type": "code",
   "execution_count": 7,
   "metadata": {
    "execution": {
     "iopub.execute_input": "2021-12-09T13:29:40.959200Z",
     "iopub.status.busy": "2021-12-09T13:29:40.958994Z",
     "iopub.status.idle": "2021-12-09T13:29:40.966152Z",
     "shell.execute_reply": "2021-12-09T13:29:40.965411Z",
     "shell.execute_reply.started": "2021-12-09T13:29:40.959173Z"
    },
    "id": "hqE8NIgLhWTS"
   },
   "outputs": [],
   "source": [
    "# Creating class for early stopping\n",
    "class EarlyStopping():\n",
    "    \n",
    "    def __init__(self, model, patience: int = 10):\n",
    "        \n",
    "        self.patience = patience\n",
    "        self.model = model\n",
    "        self.min_loss = None\n",
    "        self.model_state = None\n",
    "        self.step_num = 1\n",
    "        self.last_good_step = 1\n",
    "        \n",
    "    def step(self, val_loss: float):\n",
    "        \n",
    "        if np.where(self.min_loss is None, val_loss+1, self.min_loss) > val_loss:\n",
    "            self.min_loss = val_loss\n",
    "            self.model_state = model.state_dict()\n",
    "            self.last_good_step = self.step_num\n",
    "        if self.last_good_step <= self.step_num - self.patience:\n",
    "            return True\n",
    "        else:\n",
    "            self.step_num+=1\n",
    "            return False        "
   ]
  },
  {
   "cell_type": "code",
   "execution_count": 8,
   "metadata": {
    "execution": {
     "iopub.execute_input": "2021-12-09T13:29:40.968136Z",
     "iopub.status.busy": "2021-12-09T13:29:40.967543Z",
     "iopub.status.idle": "2021-12-09T13:29:40.980328Z",
     "shell.execute_reply": "2021-12-09T13:29:40.979697Z",
     "shell.execute_reply.started": "2021-12-09T13:29:40.968097Z"
    },
    "id": "WhnVMy-9pbqu"
   },
   "outputs": [],
   "source": [
    "# Creating model class\n",
    "class RNN(nn.Module):\n",
    "\n",
    "    def __init__(self, n_token: int = 5, d_model: int = 256, n_layers: int = 4, \n",
    "                 dropout: float = 0.05, seq_length: int = 30\n",
    "                ):\n",
    "        super().__init__()\n",
    "        self.d_model = d_model\n",
    "        self.seq_length = seq_length\n",
    "        self.encoder = nn.Embedding(n_token, d_model)\n",
    "        self.lstm_left = nn.LSTM(d_model, d_model, num_layers=n_layers, batch_first=True, dropout=dropout)\n",
    "        self.lstm_right = nn.LSTM(d_model, d_model, num_layers=n_layers, batch_first=True, dropout=dropout)\n",
    "        self.norm = nn.LayerNorm(d_model*2)\n",
    "        self.linear = nn.Linear(d_model*2, n_token-1)\n",
    "    \n",
    "    def forward(self, x):\n",
    "        x = self.encoder(x)\n",
    "        # Model applies LSTM to elements of sequence that are left and right to target\n",
    "        x_left, hc = self.lstm_left(x[:,:self.seq_length,:])\n",
    "        # LSTM applied to elements that are right to target in reversed order\n",
    "        x_right, hc = self.lstm_right(torch.flip(x[:,self.seq_length+1:,:], dims=[-2]))\n",
    "        x_left = x_left[:, -1, :]\n",
    "        x_right = x_right[:, -1, :]\n",
    "        x = torch.cat([x_left, x_right], axis=-1)\n",
    "        x = self.norm(x)\n",
    "        x = self.linear(x)\n",
    "\n",
    "        return x"
   ]
  },
  {
   "cell_type": "code",
   "execution_count": 16,
   "metadata": {
    "execution": {
     "iopub.execute_input": "2021-12-09T18:48:27.515502Z",
     "iopub.status.busy": "2021-12-09T18:48:27.514971Z",
     "iopub.status.idle": "2021-12-09T18:48:27.533831Z",
     "shell.execute_reply": "2021-12-09T18:48:27.533137Z",
     "shell.execute_reply.started": "2021-12-09T18:48:27.515464Z"
    },
    "id": "0VvACkCFr_jn"
   },
   "outputs": [],
   "source": [
    "# Creating training functions\n",
    "def do_epoch(data, model, objective, optimizer=None, scheduler=None, batch_size=BATCH_SIZE, name=None, part=0.1):\n",
    "\n",
    "    epoch_loss, epoch_accuracy = 0, 0\n",
    "\n",
    "    # If optimizer is used then it's training \n",
    "    is_train = not optimizer is None\n",
    "    model.train(is_train)\n",
    "\n",
    "    # Number of training batches\n",
    "    batch_count = int(len(data)*part)//batch_size + 1\n",
    "    \n",
    "    # Initializing sampler and loader\n",
    "    # Sampler used to be able to randomly load a part of training data\n",
    "    sampler = torch.utils.data.RandomSampler(data, replacement=True, num_samples=int(len(data)*part))\n",
    "    loader = torch.utils.data.DataLoader(data, batch_size=batch_size, sampler=sampler)\n",
    "    \n",
    "    with torch.autograd.set_grad_enabled(is_train):\n",
    "        with tqdm(total=batch_count) as progress_bar:\n",
    "            for i, (data_batch) in enumerate(loader):\n",
    "                \n",
    "                # Creating batches for training\n",
    "                X_batch = data_batch.squeeze(dim=-1).to(DEVICE)\n",
    "                y_batch = data_batch[:, 30, :].squeeze(dim=-1).to(DEVICE)\n",
    "\n",
    "                y_pred_batch = model(X_batch)\n",
    "                \n",
    "                # Calculating loss and adding to final epoch loss\n",
    "                loss = objective(y_pred_batch, y_batch)\n",
    "                epoch_loss += loss.item()\n",
    "                \n",
    "                # If training then implement optimizer\n",
    "                if is_train:\n",
    "                    optimizer.zero_grad()\n",
    "                    loss.backward()\n",
    "                    optimizer.step()\n",
    "                \n",
    "                # Calculating accuracy and adding to final epoch accuracy\n",
    "                accuracy = (y_pred_batch.argmax(dim=-1) == y_batch).sum() / batch_size\n",
    "                epoch_accuracy += accuracy.item()\n",
    "                \n",
    "                # In proccess progress bar update\n",
    "                progress_bar.update()\n",
    "                progress_bar.set_description('{:>5s} Loss = {:.5f}. Accuracy = {:.5f}'.format(\n",
    "                    name, loss.item(), accuracy.item())\n",
    "                )\n",
    "            \n",
    "            # Final progress bar update\n",
    "            progress_bar.update()\n",
    "            progress_bar.set_description('{:>5s} Loss = {:.5f}. Accuracy = {:.5f}'.format(\n",
    "                name, epoch_loss / batch_count, epoch_accuracy / batch_count)\n",
    "            )\n",
    "        \n",
    "    return epoch_loss / batch_count, epoch_accuracy / batch_count\n",
    "\n",
    "\n",
    "def fit(train_data, model, objective, val_data=None, optimizer=None, scheduler=None, \n",
    "        early_stop=None, num_epochs=NUM_EPOCHS, batch_size=BATCH_SIZE, part=0.1\n",
    "       ):\n",
    "\n",
    "    train_loss_history, val_loss_history = [], []\n",
    "    train_accuracy_history, val_accuracy_history = [], []\n",
    "\n",
    "    # Loop train and validation for a number of epochs\n",
    "    for epoch in range(num_epochs):\n",
    "        name_prefix = '[{} / {}] '.format(epoch + 1, num_epochs)\n",
    "        train_loss, train_accuracy = do_epoch(train_data, model, objective, optimizer, scheduler, batch_size, name_prefix + 'Train:', part=part)\n",
    "        train_loss_history.append(train_loss)\n",
    "        train_accuracy_history.append(train_accuracy)\n",
    "        \n",
    "        if not val_data is None:\n",
    "            val_loss, val_accuracy = do_epoch(val_data, model, objective, None, None, batch_size, name_prefix + '  Val:', part=1.0)\n",
    "            val_loss_history.append(val_loss_history)\n",
    "            val_accuracy_history.append(val_accuracy)\n",
    "        \n",
    "        # Scheduler step \n",
    "        if scheduler: scheduler.step(val_loss)\n",
    "        \n",
    "        # Early stop step\n",
    "        if not early_stop is None:\n",
    "            is_stop = early_stop.step(val_loss)\n",
    "            if not early_stop.step_num % 5:  # Saving best model every 5 epochs\n",
    "                torch.save(early_stop.model_state, PATH_OUTPUT + 'saved_model_state.ms')\n",
    "            if is_stop: break\n",
    "    \n",
    "    return train_loss_history, val_loss_history, train_accuracy_history, val_accuracy_history"
   ]
  },
  {
   "cell_type": "code",
   "execution_count": 17,
   "metadata": {
    "execution": {
     "iopub.execute_input": "2021-12-09T18:48:51.834969Z",
     "iopub.status.busy": "2021-12-09T18:48:51.834650Z",
     "iopub.status.idle": "2021-12-09T19:34:10.366044Z",
     "shell.execute_reply": "2021-12-09T19:34:10.365151Z",
     "shell.execute_reply.started": "2021-12-09T18:48:51.834927Z"
    },
    "id": "mNAt3czwhOYu",
    "outputId": "161894e0-bfb4-4396-c094-ec2c670330b7"
   },
   "outputs": [],
   "source": [
    "# Training cell\n",
    "kf = KFold(n_splits=NUM_FOLDS, shuffle=True, random_state=RANDOM_SEED)\n",
    "\n",
    "# Using 80% of sequences for train and validation datasets, 20% for test dataset\n",
    "for fold, (train_idx, val_idx) in enumerate(kf.split(seqs[:int(len(seqs)*0.8)])):  \n",
    "\n",
    "    print('--------KFold: %i--------'%(fold))\n",
    "\n",
    "    seqs_train, seqs_val = seqs[train_idx], seqs[val_idx]\n",
    "    \n",
    "    model = RNN().to(DEVICE)\n",
    "\n",
    "    early_stop = EarlyStopping(model, patience=9)\n",
    "    optimizer = optim.Adam(model.parameters())\n",
    "    scheduler = optim.lr_scheduler.ReduceLROnPlateau(optimizer, factor=0.3, patience=6, verbose=2)\n",
    "    objective = nn.CrossEntropyLoss()\n",
    "    \n",
    "    train_loss_history, val_loss_history, train_accuracy_history, val_accuracy_history = \\\n",
    "    fit(seqs_train, model, objective, seqs_val, optimizer, scheduler, early_stop, NUM_EPOCHS, batch_size=BATCH_SIZE, part=0.2)\n",
    "    \n",
    "    # Train and val score\n",
    "    train_val_loss, train_val_accuracy = \\\n",
    "    do_epoch(seqs[:int(len(seqs)*0.8)], model, objective, optimizer=None, scheduler=None, batch_size=BATCH_SIZE, name='Train and Val:', part=1.0)\n",
    "    \n",
    "    # Test score\n",
    "    test_loss, test_accuracy = \\\n",
    "    do_epoch(seqs[int(len(seqs)*0.8):], model, objective, optimizer=None, scheduler=None, batch_size=BATCH_SIZE, name='Test:', part=1.0)\n",
    "\n",
    "    # Saving final model version\n",
    "    torch.save(early_stop.model_state, PATH_OUTPUT + 'fold'+str(i)+'_model_state.ms')\n",
    "\n",
    "    if TRAIN_ONE_FOLD: break"
   ]
  },
  {
   "cell_type": "code",
   "execution_count": null,
   "metadata": {},
   "outputs": [],
   "source": [
    "losses, accs, val_losses, val_accs = \\\n",
    "np.asarray(train_loss_history).astype('float16'), \\\n",
    "np.asarray(train_accuracy_history).astype('float16'), \\\n",
    "np.asarray(val_loss_history).astype('float16'), \\\n",
    "np.asarray(val_accuracy_history).astype('float16')"
   ]
  },
  {
   "cell_type": "code",
   "execution_count": 9,
   "metadata": {},
   "outputs": [
    {
     "data": {
      "text/plain": [
       "<matplotlib.legend.Legend at 0x1abddb248e0>"
      ]
     },
     "execution_count": 9,
     "metadata": {},
     "output_type": "execute_result"
    },
    {
     "data": {
      "image/png": "[encoded data removed]",
      "text/plain": [
       "<Figure size 1440x1440 with 2 Axes>"
      ]
     },
     "metadata": {
      "needs_background": "light"
     },
     "output_type": "display_data"
    }
   ],
   "source": [
    "# Plotting training history\n",
    "fig, (ax1, ax2) = plt.subplots(2, 1)\n",
    "fig.set_size_inches(20, 20)\n",
    "ax1.set_title('Losses')\n",
    "ax1.plot(losses, label='Train losses')\n",
    "ax1.plot(val_losses, label='Valid losses')\n",
    "ax1.legend()\n",
    "ax2.set_title('Accuracies')\n",
    "ax2.plot(accs, label = 'Train accuracies')\n",
    "ax2.plot(val_accs, label = 'Valid accuracies')\n",
    "ax2.legend()"
   ]
  },
  {
   "cell_type": "markdown",
   "metadata": {},
   "source": [
    "TRAINING LOG\n",
    "\n",
    "--------KFold: 0--------\n",
    "\n",
    "[1 / 1000] Train: Loss = 1.32017. Accuracy = 0.35808: : 471it [01:17,  6.06it/s]                       \n",
    "[1 / 1000]   Val: Loss = 1.28915. Accuracy = 0.37988: : 337it [00:16, 20.61it/s]                       \n",
    "[2 / 1000] Train: Loss = 1.28489. Accuracy = 0.38500: : 471it [01:17,  6.06it/s]                       \n",
    "[2 / 1000]   Val: Loss = 1.27603. Accuracy = 0.39099: : 337it [00:15, 21.88it/s]                       \n",
    "[3 / 1000] Train: Loss = 1.27208. Accuracy = 0.39430: : 471it [01:17,  6.06it/s]                       \n",
    "[3 / 1000]   Val: Loss = 1.26918. Accuracy = 0.39669: : 337it [00:16, 20.93it/s]                       \n",
    "[4 / 1000] Train: Loss = 1.26689. Accuracy = 0.39838: : 471it [01:17,  6.05it/s]                       \n",
    "[4 / 1000]   Val: Loss = 1.26536. Accuracy = 0.39970: : 337it [00:15, 22.02it/s]                       \n",
    "[5 / 1000] Train: Loss = 1.26450. Accuracy = 0.40107: : 471it [01:17,  6.05it/s]                       \n",
    "[5 / 1000]   Val: Loss = 1.26399. Accuracy = 0.39898: : 337it [00:16, 20.92it/s]                       \n",
    "[6 / 1000] Train: Loss = 1.26252. Accuracy = 0.40215: : 471it [01:17,  6.06it/s]                       \n",
    "[6 / 1000]   Val: Loss = 1.26085. Accuracy = 0.40265: : 337it [00:15, 22.00it/s]                       \n",
    "[7 / 1000] Train: Loss = 1.26130. Accuracy = 0.40227: : 471it [01:17,  6.07it/s]                       \n",
    "[7 / 1000]   Val: Loss = 1.26104. Accuracy = 0.40185: : 337it [00:16, 20.75it/s]                       \n",
    "[8 / 1000] Train: Loss = 1.25888. Accuracy = 0.40360: : 471it [01:17,  6.06it/s]                       \n",
    "[8 / 1000]   Val: Loss = 1.26172. Accuracy = 0.40123: : 337it [00:15, 21.86it/s]                       \n",
    "[9 / 1000] Train: Loss = 1.25874. Accuracy = 0.40508: : 471it [01:17,  6.06it/s]                       \n",
    "[9 / 1000]   Val: Loss = 1.26246. Accuracy = 0.40433: : 337it [00:16, 20.73it/s]                       \n",
    "[10 / 1000] Train: Loss = 1.25799. Accuracy = 0.40539: : 471it [01:17,  6.06it/s]                       \n",
    "[10 / 1000]   Val: Loss = 1.26206. Accuracy = 0.40183: : 337it [00:15, 22.00it/s]                       \n",
    "[11 / 1000] Train: Loss = 1.25631. Accuracy = 0.40630: : 471it [01:17,  6.06it/s]                       \n",
    "[11 / 1000]   Val: Loss = 1.25993. Accuracy = 0.40426: : 337it [00:15, 21.91it/s]                       \n",
    "[12 / 1000] Train: Loss = 1.25652. Accuracy = 0.40633: : 471it [01:18,  6.00it/s]                       \n",
    "[12 / 1000]   Val: Loss = 1.25839. Accuracy = 0.40551: : 337it [00:15, 22.00it/s]                       \n",
    "[13 / 1000] Train: Loss = 1.25557. Accuracy = 0.40726: : 471it [01:17,  6.06it/s]                       \n",
    "[13 / 1000]   Val: Loss = 1.26005. Accuracy = 0.40474: : 337it [00:15, 21.67it/s]                       \n",
    "[14 / 1000] Train: Loss = 1.25539. Accuracy = 0.40781: : 471it [01:18,  6.00it/s]                       \n",
    "[14 / 1000]   Val: Loss = 1.25921. Accuracy = 0.40344: : 337it [00:15, 21.84it/s]                       \n",
    "[15 / 1000] Train: Loss = 1.25401. Accuracy = 0.40845: : 471it [01:17,  6.06it/s]                       \n",
    "[15 / 1000]   Val: Loss = 1.25901. Accuracy = 0.40317: : 337it [00:15, 21.79it/s]                       \n",
    "[16 / 1000] Train: Loss = 1.25215. Accuracy = 0.40994: : 471it [01:18,  6.00it/s]                       \n",
    "[16 / 1000]   Val: Loss = 1.25756. Accuracy = 0.40411: : 337it [00:15, 21.85it/s]                       \n",
    "[17 / 1000] Train: Loss = 1.25000. Accuracy = 0.41073: : 471it [01:17,  6.06it/s]                       \n",
    "[17 / 1000]   Val: Loss = 1.25715. Accuracy = 0.40635: : 337it [00:15, 21.99it/s]                       \n",
    "[18 / 1000] Train: Loss = 1.24989. Accuracy = 0.41088: : 471it [01:18,  5.99it/s]                       \n",
    "[18 / 1000]   Val: Loss = 1.25799. Accuracy = 0.40498: : 337it [00:15, 21.99it/s]                       \n",
    "[19 / 1000] Train: Loss = 1.24626. Accuracy = 0.41315: : 471it [01:17,  6.06it/s]                       \n",
    "[19 / 1000]   Val: Loss = 1.25690. Accuracy = 0.40599: : 337it [00:15, 21.95it/s]                       \n",
    "[20 / 1000] Train: Loss = 1.24752. Accuracy = 0.41278: : 471it [01:18,  5.99it/s]                       \n",
    "[20 / 1000]   Val: Loss = 1.25555. Accuracy = 0.40788: : 337it [00:15, 21.86it/s]                       \n",
    "[21 / 1000] Train: Loss = 1.24750. Accuracy = 0.41281: : 471it [01:17,  6.06it/s]                       \n",
    "[21 / 1000]   Val: Loss = 1.25583. Accuracy = 0.40581: : 337it [00:15, 21.78it/s]                       \n",
    "[22 / 1000] Train: Loss = 1.24560. Accuracy = 0.41358: : 471it [01:18,  6.00it/s]                       \n",
    "[22 / 1000]   Val: Loss = 1.26032. Accuracy = 0.40401: : 337it [00:15, 21.87it/s]                       \n",
    "[23 / 1000] Train: Loss = 1.24420. Accuracy = 0.41667: : 471it [01:17,  6.07it/s]                       \n",
    "[23 / 1000]   Val: Loss = 1.25802. Accuracy = 0.40582: : 337it [00:15, 21.94it/s]                       \n",
    "[24 / 1000] Train: Loss = 1.24415. Accuracy = 0.41546: : 471it [01:18,  6.00it/s]                       \n",
    "[24 / 1000]   Val: Loss = 1.25624. Accuracy = 0.40694: : 337it [00:15, 21.95it/s]                       \n",
    "[25 / 1000] Train: Loss = 1.24226. Accuracy = 0.41686: : 471it [01:17,  6.06it/s]                       \n",
    "[25 / 1000]   Val: Loss = 1.25836. Accuracy = 0.40708: : 337it [00:15, 21.95it/s]                       \n",
    "[26 / 1000] Train: Loss = 1.24048. Accuracy = 0.41798: : 471it [01:18,  6.00it/s]                       \n",
    "[26 / 1000]   Val: Loss = 1.25953. Accuracy = 0.40566: : 337it [00:15, 21.88it/s]                       \n",
    "[27 / 1000] Train: Loss = 1.23964. Accuracy = 0.41943: : 471it [01:17,  6.07it/s]                       \n",
    "[27 / 1000]   Val: Loss = 1.25859. Accuracy = 0.40690: : 337it [00:15, 21.78it/s]                       \n",
    "Epoch    27: reducing learning rate of group 0 to 3.0000e-04.\n",
    "\n",
    "[28 / 1000] Train: Loss = 1.23508. Accuracy = 0.42287: : 471it [01:17,  6.06it/s]                       \n",
    "[28 / 1000]   Val: Loss = 1.25625. Accuracy = 0.40765: : 337it [00:16, 20.86it/s]                       \n",
    "[29 / 1000] Train: Loss = 1.23140. Accuracy = 0.42459: : 471it [01:17,  6.06it/s]                       \n",
    "[29 / 1000]   Val: Loss = 1.25704. Accuracy = 0.40703: : 337it [00:15, 21.90it/s]                       \n",
    "\n",
    "Train and Val: Loss = 1.23244. Accuracy = 0.42455: : 2683it [02:04, 21.48it/s]      \n",
    "\n",
    "Test: Loss = 1.25547. Accuracy = 0.40417: : 136it [00:06, 21.89it/s]      "
   ]
  }
 ],
 "metadata": {
  "kernelspec": {
   "display_name": "Python 3",
   "language": "python",
   "name": "python3"
  },
  "language_info": {
   "codemirror_mode": {
    "name": "ipython",
    "version": 3
   },
   "file_extension": ".py",
   "mimetype": "text/x-python",
   "name": "python",
   "nbconvert_exporter": "python",
   "pygments_lexer": "ipython3",
   "version": "3.9.0"
  }
 },
 "nbformat": 4,
 "nbformat_minor": 4
}
